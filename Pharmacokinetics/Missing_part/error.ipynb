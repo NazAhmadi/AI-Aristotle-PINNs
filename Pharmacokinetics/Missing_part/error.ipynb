{
  "cells": [
    {
      "cell_type": "markdown",
      "metadata": {
        "id": "r6JH_fKmLD64"
      },
      "source": [
        "#**Drug_model_nn_JAX**"
      ]
    },
    {
      "cell_type": "code",
      "execution_count": 1,
      "metadata": {},
      "outputs": [],
      "source": [
        "import jax\n",
        "import jax.numpy as jnp\n",
        "import numpy as np\n",
        "import matplotlib.pyplot as plt\n",
        "from matplotlib import cm\n",
        "import matplotlib as mpl\n",
        "import time\n",
        "import pandas as pd\n",
        "# import jaxopt\n",
        "from scipy.integrate import odeint\n",
        "\n",
        "\n",
        "def drug_model(\n",
        "    t,\n",
        "    kg = 0.72,\n",
        "    kb = 0.15,\n",
        "    G0 = 0.1,\n",
        "):\n",
        "    def func(y, t):\n",
        "        G, B, U = y[0], y[1], y[2]\n",
        "\n",
        "        return [\n",
        "            - kg * G,\n",
        "            kg * G - kb * B,\n",
        "            kb * B,\n",
        "            ]\n",
        "\n",
        "    y0 = [G0, 0, 0]\n",
        "    return odeint(func, y0, t)\n",
        "\n",
        "t_dense = jnp.linspace(0, 50, 501)[:, None]\n",
        "y_dense = drug_model(np.ravel(t_dense))"
      ]
    },
    {
      "cell_type": "code",
      "execution_count": 3,
      "metadata": {},
      "outputs": [
        {
          "name": "stdout",
          "output_type": "stream",
          "text": [
            "_____________10 data points______________\n",
            "(MAE): 1.26e-04\n",
            "(RMSE): 5.57e-04\n",
            "(RE): 6.92e-02\n",
            "_____________20 data points______________\n",
            "(MAE): 1.09e-04\n",
            "(RMSE): 4.82e-04\n",
            "(RE): 5.99e-02\n",
            "_____________50 data points______________\n",
            "(MAE): 6.59e-05\n",
            "(RMSE): 2.26e-04\n",
            "(RE): 2.80e-02\n",
            "_____________100 data points_____________\n",
            "(MAE): 6.54e-05\n",
            "(RMSE): 1.84e-04\n",
            "(RE): 2.29e-02\n"
          ]
        }
      ],
      "source": [
        "#**10 data points**\n",
        "\n",
        "import pandas as pd\n",
        "import matplotlib.pyplot as plt\n",
        "\n",
        "\n",
        "# -------Load the CSV file into a Pandas DataFrame\n",
        "df_10 = pd.read_csv(\"pred_10.csv\")\n",
        "# t = df_10['t']\n",
        "ft_10 = df_10['ft']\n",
        "\n",
        "df_20 = pd.read_csv(\"pred_20.csv\")\n",
        "ft_20 = df_20['ft']\n",
        "\n",
        "df_50 = pd.read_csv(\"pred_50.csv\")\n",
        "ft_50 = df_50['ft']\n",
        "\n",
        "df_100 = pd.read_csv(\"pred_100.csv\")\n",
        "ft_100 = df_100['ft']\n",
        "#-------------------------------------------------\n",
        "kg = 0.72\n",
        "kb = 0.15\n",
        "G0 = 0.1\n",
        "\n",
        "f_t_analytical = kg * y_dense[:, 0] - kb * y_dense[:, 1]\n",
        "\n",
        "#-------------------------------------------------\n",
        "\n",
        "def compute_errors(true_values, predicted_values):\n",
        "    # Compute Mean Absolute Error (MAE)\n",
        "    mae = np.abs(true_values - predicted_values).mean()\n",
        "\n",
        "    # Compute Root Mean Squared Error (RMSE)\n",
        "    rmse = np.sqrt(((true_values - predicted_values) ** 2).mean())\n",
        "\n",
        "    # Compute Relative Error (RE)\n",
        "    numerator = np.sqrt(np.sum((true_values - predicted_values) ** 2))\n",
        "    denominator = np.sqrt(np.sum(true_values ** 2))\n",
        "    re = numerator / denominator\n",
        "\n",
        "    return mae, rmse, re\n",
        "\n",
        "# Extract the true values and predicted values from the CSV data\n",
        "\n",
        "# Calculate L1, L2, L∞, and L2 relative errors\n",
        "\n",
        "print(\"_____________10 data points______________\")\n",
        "\n",
        "mae, rmse, re  = compute_errors(f_t_analytical, ft_10)\n",
        "print(f\"(MAE): {mae:.2e}\")\n",
        "print(f\"(RMSE): {rmse:.2e}\")\n",
        "print(f\"(RE): {re:.2e}\")\n",
        "\n",
        "print(\"_____________20 data points______________\")\n",
        "\n",
        "mae, rmse, re  = compute_errors(f_t_analytical, ft_20)\n",
        "print(f\"(MAE): {mae:.2e}\")\n",
        "print(f\"(RMSE): {rmse:.2e}\")\n",
        "print(f\"(RE): {re:.2e}\")\n",
        "\n",
        "print(\"_____________50 data points______________\")\n",
        "\n",
        "mae, rmse, re  = compute_errors(f_t_analytical, ft_50)\n",
        "print(f\"(MAE): {mae:.2e}\")\n",
        "print(f\"(RMSE): {rmse:.2e}\")\n",
        "print(f\"(RE): {re:.2e}\")\n",
        "\n",
        "print(\"_____________100 data points_____________\")\n",
        "\n",
        "mae, rmse, re  = compute_errors(f_t_analytical, ft_100)\n",
        "print(f\"(MAE): {mae:.2e}\")\n",
        "print(f\"(RMSE): {rmse:.2e}\")\n",
        "print(f\"(RE): {re:.2e}\")"
      ]
    }
  ],
  "metadata": {
    "accelerator": "GPU",
    "colab": {
      "collapsed_sections": [
        "r6JH_fKmLD64",
        "lrnOVG_Jwk1d"
      ],
      "gpuType": "T4",
      "machine_shape": "hm",
      "provenance": []
    },
    "kernelspec": {
      "display_name": "Python 3",
      "name": "python3"
    },
    "language_info": {
      "codemirror_mode": {
        "name": "ipython",
        "version": 3
      },
      "file_extension": ".py",
      "mimetype": "text/x-python",
      "name": "python",
      "nbconvert_exporter": "python",
      "pygments_lexer": "ipython3",
      "version": "3.10.10"
    },
    "vscode": {
      "interpreter": {
        "hash": "31f2aee4e71d21fbe5cf8b01ff0e069b9275f58929596ceb00d14d90e3e16cd6"
      }
    }
  },
  "nbformat": 4,
  "nbformat_minor": 0
}
